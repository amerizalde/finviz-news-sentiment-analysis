{
 "cells": [
  {
   "cell_type": "code",
   "execution_count": 1,
   "id": "3765a783",
   "metadata": {},
   "outputs": [],
   "source": [
    "from urllib.request import urlopen, Request"
   ]
  },
  {
   "cell_type": "code",
   "execution_count": 2,
   "id": "47852bf4",
   "metadata": {},
   "outputs": [],
   "source": [
    "from bs4 import BeautifulSoup as soup"
   ]
  },
  {
   "cell_type": "code",
   "execution_count": 3,
   "id": "5843a78e",
   "metadata": {},
   "outputs": [],
   "source": [
    "finviz_url = \"https://finviz.com/quote.ashx?t=\""
   ]
  },
  {
   "cell_type": "code",
   "execution_count": 4,
   "id": "cf0dd8c9",
   "metadata": {},
   "outputs": [
    {
     "data": {
      "text/plain": [
       "{'KPRX': {'sentiment': 1, 'links': {}},\n",
       " 'NRBO': {'sentiment': 1, 'links': {}},\n",
       " 'CNXA': {'sentiment': 1, 'links': {}},\n",
       " 'CMND': {'sentiment': 1, 'links': {}},\n",
       " 'MNTS': {'sentiment': 1, 'links': {}},\n",
       " 'NBY': {'sentiment': 1, 'links': {}},\n",
       " 'AUVI': {'sentiment': 1, 'links': {}}}"
      ]
     },
     "execution_count": 4,
     "metadata": {},
     "output_type": "execute_result"
    }
   ],
   "source": [
    "tickers = [\"KPRX\", \"NRBO\", \"CNXA\", \"CMND\", \"MNTS\", \"NBY\", \"AUVI\"]\n",
    "\n",
    "portfolio = {}\n",
    "for t in tickers:\n",
    "    portfolio[t] = {\n",
    "        \"sentiment\" : 1,\n",
    "        \"links\" : {}\n",
    "    }\n",
    "portfolio"
   ]
  },
  {
   "cell_type": "code",
   "execution_count": 5,
   "id": "ac76150d",
   "metadata": {},
   "outputs": [],
   "source": [
    "def get_page(url):\n",
    "    request = Request(url=url, headers={'user-agent': 'Not-A-Browser'})\n",
    "    response = urlopen(request)\n",
    "    return soup(response, \"html\")"
   ]
  },
  {
   "cell_type": "code",
   "execution_count": 6,
   "id": "b55fd92a",
   "metadata": {},
   "outputs": [
    {
     "data": {
      "text/plain": [
       "{'KPRX': {'sentiment': 1,\n",
       "  'links': {'Why Is Kiora Pharmaceuticals (KPRX) Stock Up 39% Today?': {'url': 'https://investorplace.com/2024/02/why-is-kiora-pharmaceuticals-kprx-stock-up-39-today/'},\n",
       "   'Kiora Pharmaceuticals Announces Private Placement of up to Approximately $45 Million': {'url': 'https://www.newsfilecorp.com/release/196432/Kiora-Pharmaceuticals-Announces-Private-Placement-of-up-to-Approximately-45-Million'},\n",
       "   'Kiora Pharmaceuticals and Th a Open Innovation Enter Strategic Agreement to Develop and Commercialize KIO-301 for the Treatment of Inherited Retinal Diseases; Total Deal Value of up to $301 Million includes $16 Million Upfront, up to $285 Million in Clinical Development, Regulatory and Commercial Milestones, Plus Commercial Royalties': {'url': 'https://www.newsfilecorp.com/release/196399/Kiora-Pharmaceuticals-and-Tha-Open-Innovation-Enter-Strategic-Agreement-to-Develop-and-Commercialize-KIO301-for-the-Treatment-of-Inherited-Retinal-Diseases-Total-Deal-Value-of-up-to-301-Million-includes-16-Million-Upfront-up-to-285-Million-'},\n",
       "   'Breaking ground in vision restoration: Kiora Pharmaceuticals reveals promising results with KIO-301': {'url': 'https://finance.yahoo.com/news/breaking-ground-vision-restoration-kiora-185421153.html'},\n",
       "   'Kiora Pharmaceuticals Reports Q3 2023 Results; Expanding Clinical Development of KIO-301 for Inherited Retinal Diseases Based on Encouraging Results of ABACUS-1 Study in Retinitis Pigmentosa': {'url': 'https://www.newsfilecorp.com/release/186773/Kiora-Pharmaceuticals-Reports-Q3-2023-Results-Expanding-Clinical-Development-of-KIO301-for-Inherited-Retinal-Diseases-Based-on-Encouraging-Results-of-ABACUS1-Study-in-Retinitis-Pigmentosa'}}},\n",
       " 'NRBO': {'sentiment': 1,\n",
       "  'links': {'NeuroBo Pharmaceuticals Announces FDA Clearance of IND for a Phase 1 Clinical Trial of DA-1726 for the Treatment of Obesity': {'url': 'https://www.prnewswire.com/news-releases/neurobo-pharmaceuticals-announces-fda-clearance-of-ind-for-a-phase-1-clinical-trial-of-da-1726-for-the-treatment-of-obesity-302050383.html'},\n",
       "   'NeuroBo Pharmaceuticals Reports Positive Pre-Clinical Safety Data of DA-1241 in Combination with Sitagliptin and Opens Enrollment for Part 2 of Its Phase 2a Clinical Trial Evaluating DA-1241 for the Treatment of MASH': {'url': 'https://www.prnewswire.com/news-releases/neurobo-pharmaceuticals-reports-positive-pre-clinical-safety-data-of-da-1241-in-combination-with-sitagliptin-and-opens-enrollment-for-part-2-of-its-phase-2a-clinical-trial-evaluating-da-1241-for-the-treatment-of-mash-302037445.html'},\n",
       "   'NeuroBo Pharmaceuticals Regains Compliance with Nasdaq Minimum Price Requirement': {'url': 'https://www.prnewswire.com/news-releases/neurobo-pharmaceuticals-regains-compliance-with-nasdaq-minimum-price-requirement-302028819.html'},\n",
       "   'NeuroBo to Participate in Industry and Investor Conferences in January': {'url': 'https://www.prnewswire.com/news-releases/neurobo-to-participate-in-industry-and-investor-conferences-in-january-302023941.html'},\n",
       "   'NeuroBo Pharmaceuticals Submits IND Application to the FDA for a Phase 1 Clinical Trial of DA-1726 for the Treatment of Obesity': {'url': 'https://www.prnewswire.com/news-releases/neurobo-pharmaceuticals-submits-ind-application-to-the-fda-for-a-phase-1-clinical-trial-of-da-1726-for-the-treatment-of-obesity-302023115.html'}}},\n",
       " 'CNXA': {'sentiment': 1,\n",
       "  'links': {'Connexa Announces that it has regained compliance with the Nasdaq Minimum Shareholder Equity Rule': {'url': 'https://www.globenewswire.com/news-release/2024/01/31/2821191/0/en/Connexa-Announces-that-it-has-regained-compliance-with-the-Nasdaq-Minimum-Shareholder-Equity-Rule.html'},\n",
       "   'Connexa Reports Impressive Feedback for Slinger Artificial Intelligence App': {'url': 'https://www.globenewswire.com/news-release/2023/12/26/2801047/0/en/Connexa-Reports-Impressive-Feedback-for-Slinger-Artificial-Intelligence-App.html'},\n",
       "   'Connexa Upgrades Consumer Response Experience for its Slinger Bag Brand in the US market': {'url': 'https://www.globenewswire.com/news-release/2023/12/19/2798544/0/en/Connexa-Upgrades-Consumer-Response-Experience-for-its-Slinger-Bag-Brand-in-the-US-market.html'},\n",
       "   \"Connexa's Partnership With AdVenture Media Delivers Unprecedented Return on Digital Advertising Spend\": {'url': 'https://www.globenewswire.com/news-release/2023/12/14/2796250/0/en/Connexa-s-Partnership-With-AdVenture-Media-Delivers-Unprecedented-Return-on-Digital-Advertising-Spend.html'},\n",
       "   'BestGrowthStocks.Com Issues Extensive Comprehensive Analysis on Connexa Sports Technologies Inc.': {'url': 'https://finance.yahoo.com/news/bestgrowthstocks-com-issues-extensive-comprehensive-120000947.html'}}},\n",
       " 'CMND': {'sentiment': 1,\n",
       "  'links': {'Clearmind Medicine Receives Patent Approval for its Psychedelic Based Treatment of Binge Behaviors in China': {'url': 'https://finance.yahoo.com/news/clearmind-medicine-receives-patent-approval-125100357.html'},\n",
       "   'Clearmind Medicine Announces Exclusive, Long-Term Licensing Agreement with Leading Israeli Research Center': {'url': 'https://finance.yahoo.com/news/clearmind-medicine-announces-exclusive-long-131500180.html'},\n",
       "   'Aegis Capital Corp. Acted as Sole Bookrunner on a $2.4 Million Registered Direct and Private Placement for Clearmind Medicine Inc. (NASDAQ: CMND)': {'url': 'https://www.accesswire.com/viewarticle.aspx?id=825468'},\n",
       "   'Clearmind Medicine Inc. Closes US$2.4 Million Registered Direct and Private Placement': {'url': 'https://www.globenewswire.com/news-release/2024/01/16/2810139/0/en/Clearmind-Medicine-Inc-Closes-US-2-4-Million-Registered-Direct-and-Private-Placement.html'},\n",
       "   'Clearmind Medicine Inc. Announces Pricing of $2.4 Million Registered Direct and Private Placement': {'url': 'https://www.globenewswire.com/news-release/2024/01/11/2808018/0/en/Clearmind-Medicine-Inc-Announces-Pricing-of-2-4-Million-Registered-Direct-and-Private-Placement.html'}}},\n",
       " 'MNTS': {'sentiment': 1,\n",
       "  'links': {'Space Development Agency Awards Momentus Contract Modification to Develop Defense Applications for Vigoride Orbital Service Vehicle': {'url': 'https://www.businesswire.com/news/home/20240201342605/en/'},\n",
       "   'Momentus Completes All Requirements of the National Security Agreement (NSA)': {'url': 'https://www.businesswire.com/news/home/20240131851048/en/'},\n",
       "   'Momentus Announces Closing of $4.0 Million Registered Direct Offering Priced At-the-Market Under Nasdaq Rules': {'url': 'https://www.businesswire.com/news/home/20240117538512/en/'},\n",
       "   'Momentus Announces $4.0 Million Registered Direct Offering Priced At-the-Market Under Nasdaq Rules': {'url': 'https://www.businesswire.com/news/home/20240114965302/en/'},\n",
       "   'Momentus Signs Contract with CalgaryToSpace for 2025 Orbital Delivery Services': {'url': 'https://www.businesswire.com/news/home/20231205302495/en/'}}},\n",
       " 'NBY': {'sentiment': 1,\n",
       "  'links': {'NovaBay Pharmaceuticals Reports 64% Year-Over-Year Growth in Avenova Unit Subscription-Based Sales': {'url': 'https://finance.yahoo.com/news/novabay-pharmaceuticals-reports-64-over-140000307.html'},\n",
       "   'NovaBay Pharmaceuticals and Sonoma Pharmaceuticals Agree to Market Avenova-branded Products in the European Union Through Sonomas Extensive Distributor Network': {'url': 'https://finance.yahoo.com/news/novabay-pharmaceuticals-sonoma-pharmaceuticals-agree-141500318.html'},\n",
       "   'NovaBay Pharmaceuticals Partners with Woo University to Educate Eyecare Professionals on the Use of Amniotic Membranes': {'url': 'https://finance.yahoo.com/news/novabay-pharmaceuticals-partners-woo-university-115000589.html'},\n",
       "   'NovaBay Pharmaceuticals, Inc. (AMEX:NBY) Q3 2023 Earnings Call Transcript': {'url': 'https://finance.yahoo.com/news/novabay-pharmaceuticals-inc-amex-nby-133333042.html'},\n",
       "   'NovaBay Pharmaceuticals Reports Third Quarter 2023 Financial Results': {'url': 'https://finance.yahoo.com/news/novabay-pharmaceuticals-reports-third-quarter-210500105.html'}}},\n",
       " 'AUVI': {'sentiment': 1,\n",
       "  'links': {'EXCLUSIVE: Applied UV Lands Big Role in Dominican Resort Project, Promises High-Tech Furnishings by 2024': {'url': 'https://finance.yahoo.com/news/exclusive-applied-uv-lands-big-133020026.html'},\n",
       "   'Applied UV, Inc. to Develop Smart Building Technologies for Larimar City, a New Luxury Development With Six Hotels and 20,000 High-end Residences - Potential Revenues Could Total $250 Million to $300 Million': {'url': 'https://www.globenewswire.com/news-release/2024/02/01/2821832/0/en/Applied-UV-Inc-to-Develop-Smart-Building-Technologies-for-Larimar-City-a-New-Luxury-Development-With-Six-Hotels-and-20-000-High-end-Residences-Potential-Revenues-Could-Total-250-Mi.html'},\n",
       "   'Thinking about buying stock in Spectral AI, Applied UV, Adobe, BigBear.ai, or Aclarion?': {'url': 'https://finance.yahoo.com/news/thinking-buying-stock-spectral-ai-143100334.html'},\n",
       "   'Applied UV Inc. Announces Receipt of Provisional Patent for Our Pulse Modulated UVC LED System to be Added to Our Patented Fighter Flex LED Solution Expanding Significant Revenue Opportunity': {'url': 'https://www.globenewswire.com/news-release/2024/01/29/2818736/0/en/Applied-UV-Inc-Announces-Receipt-of-Provisional-Patent-for-Our-Pulse-Modulated-UVC-LED-System-to-be-Added-to-Our-Patented-Fighter-Flex-LED-Solution-Expanding-Significant-Revenue-Op.html'},\n",
       "   'Applied UV Inc. Announces Appointment of Hospitality Industry Expert to the Board of Directors': {'url': 'https://finance.yahoo.com/news/applied-uv-inc-announces-appointment-120000213.html'}}}}"
      ]
     },
     "execution_count": 6,
     "metadata": {},
     "output_type": "execute_result"
    }
   ],
   "source": [
    "\n",
    "for ticker in tickers:\n",
    "    url = finviz_url + ticker\n",
    "    html = get_page(url)\n",
    "    news = html.find(id=\"news-table\").findAll('tr')\n",
    "    for index, row in enumerate(news):\n",
    "        if row.a and index < 6:\n",
    "            title = row.a.get_text()\n",
    "            link = row.a.get(\"href\")\n",
    "            portfolio[ticker][\"links\"][title] = {}\n",
    "            portfolio[ticker][\"links\"][title][\"url\"] = link\n",
    "\n",
    "portfolio"
   ]
  },
  {
   "cell_type": "code",
   "execution_count": 8,
   "id": "22021639",
   "metadata": {},
   "outputs": [],
   "source": [
    "# Load model directly\n",
    "import torch\n",
    "from typing import Tuple \n",
    "from transformers import AutoTokenizer, AutoModelForSequenceClassification\n",
    "\n",
    "device = \"cuda:0\" if torch.cuda.is_available() else \"cpu\"\n",
    "tokenizer = AutoTokenizer.from_pretrained(\"ProsusAI/finbert\")\n",
    "model = AutoModelForSequenceClassification.from_pretrained(\"ProsusAI/finbert\").to(device)\n",
    "labels = [\"positive\", \"negative\", \"neutral\"]\n",
    "\n",
    "def estimate_sentiment(news):\n",
    "    if news:\n",
    "        tokens = tokenizer(news, return_tensors=\"pt\", padding=True).to(device)\n",
    "\n",
    "        result = model(tokens[\"input_ids\"], attention_mask=tokens[\"attention_mask\"])[\n",
    "            \"logits\"\n",
    "        ]\n",
    "        result = torch.nn.functional.softmax(torch.sum(result, 0), dim=-1)\n",
    "        probability = result[torch.argmax(result)]\n",
    "        sentiment = labels[torch.argmax(result)]\n",
    "        return probability, sentiment\n",
    "    else:\n",
    "        return 0, labels[-1]"
   ]
  },
  {
   "cell_type": "code",
   "execution_count": null,
   "id": "9a4c8090",
   "metadata": {},
   "outputs": [
    {
     "data": {
      "application/vnd.jupyter.widget-view+json": {
       "model_id": "caac48562b9b49a8985de419145992b1",
       "version_major": 2,
       "version_minor": 0
      },
      "text/plain": [
       "portfolio:   0%|          | 0/7 [00:00<?, ?it/s]"
      ]
     },
     "metadata": {},
     "output_type": "display_data"
    },
    {
     "data": {
      "application/vnd.jupyter.widget-view+json": {
       "model_id": "87b3767cac1041d7948b8509f3d0c323",
       "version_major": 2,
       "version_minor": 0
      },
      "text/plain": [
       "links:   0%|          | 0/5 [00:00<?, ?it/s]"
      ]
     },
     "metadata": {},
     "output_type": "display_data"
    },
    {
     "data": {
      "application/vnd.jupyter.widget-view+json": {
       "model_id": "50acbacabefa4ca2b34c6a9b2908d903",
       "version_major": 2,
       "version_minor": 0
      },
      "text/plain": [
       "text:   0%|          | 0/32 [00:00<?, ?it/s]"
      ]
     },
     "metadata": {},
     "output_type": "display_data"
    },
    {
     "data": {
      "application/vnd.jupyter.widget-view+json": {
       "model_id": "e0564d416e794ede8885b39e8a34a39f",
       "version_major": 2,
       "version_minor": 0
      },
      "text/plain": [
       "text:   0%|          | 0/34 [00:00<?, ?it/s]"
      ]
     },
     "metadata": {},
     "output_type": "display_data"
    },
    {
     "data": {
      "application/vnd.jupyter.widget-view+json": {
       "model_id": "8e818909c8ca438e8dfa6978ebc8e67a",
       "version_major": 2,
       "version_minor": 0
      },
      "text/plain": [
       "text:   0%|          | 0/35 [00:00<?, ?it/s]"
      ]
     },
     "metadata": {},
     "output_type": "display_data"
    },
    {
     "data": {
      "application/vnd.jupyter.widget-view+json": {
       "model_id": "0d98c9328bca4b2d91e18799c5d9a222",
       "version_major": 2,
       "version_minor": 0
      },
      "text/plain": [
       "text:   0%|          | 0/29 [00:00<?, ?it/s]"
      ]
     },
     "metadata": {},
     "output_type": "display_data"
    },
    {
     "data": {
      "application/vnd.jupyter.widget-view+json": {
       "model_id": "369f58af88c243cd8cebbbb5f9fbec35",
       "version_major": 2,
       "version_minor": 0
      },
      "text/plain": [
       "text:   0%|          | 0/33 [00:00<?, ?it/s]"
      ]
     },
     "metadata": {},
     "output_type": "display_data"
    },
    {
     "data": {
      "application/vnd.jupyter.widget-view+json": {
       "model_id": "f70f624be19a466a87ec8895ae4ebdcc",
       "version_major": 2,
       "version_minor": 0
      },
      "text/plain": [
       "links:   0%|          | 0/5 [00:00<?, ?it/s]"
      ]
     },
     "metadata": {},
     "output_type": "display_data"
    },
    {
     "data": {
      "application/vnd.jupyter.widget-view+json": {
       "model_id": "6844616b3a9e46abb013bc68c86408ab",
       "version_major": 2,
       "version_minor": 0
      },
      "text/plain": [
       "text:   0%|          | 0/28 [00:00<?, ?it/s]"
      ]
     },
     "metadata": {},
     "output_type": "display_data"
    },
    {
     "data": {
      "application/vnd.jupyter.widget-view+json": {
       "model_id": "07502b3163c34c61aca6c74bd71763a2",
       "version_major": 2,
       "version_minor": 0
      },
      "text/plain": [
       "text:   0%|          | 0/29 [00:00<?, ?it/s]"
      ]
     },
     "metadata": {},
     "output_type": "display_data"
    },
    {
     "data": {
      "application/vnd.jupyter.widget-view+json": {
       "model_id": "6d4a8109d2134b1690335b2988f4bb39",
       "version_major": 2,
       "version_minor": 0
      },
      "text/plain": [
       "text:   0%|          | 0/21 [00:00<?, ?it/s]"
      ]
     },
     "metadata": {},
     "output_type": "display_data"
    },
    {
     "data": {
      "application/vnd.jupyter.widget-view+json": {
       "model_id": "895244b1fef745b4b44eb32c1c9ce43d",
       "version_major": 2,
       "version_minor": 0
      },
      "text/plain": [
       "text:   0%|          | 0/21 [00:00<?, ?it/s]"
      ]
     },
     "metadata": {},
     "output_type": "display_data"
    },
    {
     "data": {
      "application/vnd.jupyter.widget-view+json": {
       "model_id": "e48ead5452a6486387852ceff04112f2",
       "version_major": 2,
       "version_minor": 0
      },
      "text/plain": [
       "text:   0%|          | 0/26 [00:00<?, ?it/s]"
      ]
     },
     "metadata": {},
     "output_type": "display_data"
    },
    {
     "data": {
      "application/vnd.jupyter.widget-view+json": {
       "model_id": "a0e71a3a1cca45c78ef3b16d7cd88270",
       "version_major": 2,
       "version_minor": 0
      },
      "text/plain": [
       "links:   0%|          | 0/5 [00:00<?, ?it/s]"
      ]
     },
     "metadata": {},
     "output_type": "display_data"
    },
    {
     "data": {
      "application/vnd.jupyter.widget-view+json": {
       "model_id": "dbf850c676e54592b99f87a3a84a3956",
       "version_major": 2,
       "version_minor": 0
      },
      "text/plain": [
       "text:   0%|          | 0/14 [00:00<?, ?it/s]"
      ]
     },
     "metadata": {},
     "output_type": "display_data"
    },
    {
     "data": {
      "application/vnd.jupyter.widget-view+json": {
       "model_id": "3403a7ca43f84766b0d3750ba077be98",
       "version_major": 2,
       "version_minor": 0
      },
      "text/plain": [
       "text:   0%|          | 0/27 [00:00<?, ?it/s]"
      ]
     },
     "metadata": {},
     "output_type": "display_data"
    },
    {
     "data": {
      "application/vnd.jupyter.widget-view+json": {
       "model_id": "5a47177fa8294968af4f89052902c6d0",
       "version_major": 2,
       "version_minor": 0
      },
      "text/plain": [
       "text:   0%|          | 0/19 [00:00<?, ?it/s]"
      ]
     },
     "metadata": {},
     "output_type": "display_data"
    },
    {
     "data": {
      "application/vnd.jupyter.widget-view+json": {
       "model_id": "52f8276026ee4d3cb285b42220f58630",
       "version_major": 2,
       "version_minor": 0
      },
      "text/plain": [
       "text:   0%|          | 0/18 [00:00<?, ?it/s]"
      ]
     },
     "metadata": {},
     "output_type": "display_data"
    },
    {
     "data": {
      "application/vnd.jupyter.widget-view+json": {
       "model_id": "44a8becc01e143afa9130d1e82ee5157",
       "version_major": 2,
       "version_minor": 0
      },
      "text/plain": [
       "text:   0%|          | 0/38 [00:00<?, ?it/s]"
      ]
     },
     "metadata": {},
     "output_type": "display_data"
    },
    {
     "data": {
      "application/vnd.jupyter.widget-view+json": {
       "model_id": "9b6a261e8cc947a2aa2f1ee0bd428d65",
       "version_major": 2,
       "version_minor": 0
      },
      "text/plain": [
       "links:   0%|          | 0/5 [00:00<?, ?it/s]"
      ]
     },
     "metadata": {},
     "output_type": "display_data"
    },
    {
     "data": {
      "application/vnd.jupyter.widget-view+json": {
       "model_id": "44a83455bda84a0e961271aba799d7f3",
       "version_major": 2,
       "version_minor": 0
      },
      "text/plain": [
       "text:   0%|          | 0/34 [00:00<?, ?it/s]"
      ]
     },
     "metadata": {},
     "output_type": "display_data"
    },
    {
     "data": {
      "application/vnd.jupyter.widget-view+json": {
       "model_id": "da3f8722d699465c9fb835cca0238208",
       "version_major": 2,
       "version_minor": 0
      },
      "text/plain": [
       "text:   0%|          | 0/37 [00:00<?, ?it/s]"
      ]
     },
     "metadata": {},
     "output_type": "display_data"
    },
    {
     "data": {
      "application/vnd.jupyter.widget-view+json": {
       "model_id": "e8fa22888b714085a7d969ffff65ee1d",
       "version_major": 2,
       "version_minor": 0
      },
      "text/plain": [
       "text:   0%|          | 0/35 [00:00<?, ?it/s]"
      ]
     },
     "metadata": {},
     "output_type": "display_data"
    },
    {
     "data": {
      "application/vnd.jupyter.widget-view+json": {
       "model_id": "1087a8d5d802453cbe6e766eef54757a",
       "version_major": 2,
       "version_minor": 0
      },
      "text/plain": [
       "text:   0%|          | 0/20 [00:00<?, ?it/s]"
      ]
     },
     "metadata": {},
     "output_type": "display_data"
    },
    {
     "data": {
      "application/vnd.jupyter.widget-view+json": {
       "model_id": "ccd13b2f24e645b9a9742974530b117a",
       "version_major": 2,
       "version_minor": 0
      },
      "text/plain": [
       "text:   0%|          | 0/16 [00:00<?, ?it/s]"
      ]
     },
     "metadata": {},
     "output_type": "display_data"
    },
    {
     "data": {
      "application/vnd.jupyter.widget-view+json": {
       "model_id": "7fe1c7591deb42aa82f8085eaf9484de",
       "version_major": 2,
       "version_minor": 0
      },
      "text/plain": [
       "links:   0%|          | 0/5 [00:00<?, ?it/s]"
      ]
     },
     "metadata": {},
     "output_type": "display_data"
    }
   ],
   "source": [
    "from tqdm.notebook import tqdm\n",
    "\n",
    "for t in tqdm(portfolio, desc=\"portfolio\"):\n",
    "    f = portfolio[t]\n",
    "    for v in tqdm(f[\"links\"].values(), desc=\"links\"):\n",
    "        url = v['url']\n",
    "        count_prob = []\n",
    "        results = get_page(url).findAll('p')\n",
    "        for p in tqdm(results, desc=\"text\"):\n",
    "            news = p.get_text()\n",
    "            probability, sentiment = estimate_sentiment(news)\n",
    "            count_prob.append(probability)\n",
    "    portfolio[t][\"sentiment\"] = (sum(count_prob) / len(count_prob)).item()"
   ]
  },
  {
   "cell_type": "code",
   "execution_count": null,
   "id": "9fc764af",
   "metadata": {},
   "outputs": [],
   "source": [
    "[(p, portfolio[p][\"sentiment\"]) for p in portfolio]"
   ]
  },
  {
   "cell_type": "code",
   "execution_count": null,
   "id": "d4d3b6f7",
   "metadata": {},
   "outputs": [],
   "source": []
  }
 ],
 "metadata": {
  "kernelspec": {
   "display_name": "Python 3 (ipykernel)",
   "language": "python",
   "name": "python3"
  },
  "language_info": {
   "codemirror_mode": {
    "name": "ipython",
    "version": 3
   },
   "file_extension": ".py",
   "mimetype": "text/x-python",
   "name": "python",
   "nbconvert_exporter": "python",
   "pygments_lexer": "ipython3",
   "version": "3.11.5"
  }
 },
 "nbformat": 4,
 "nbformat_minor": 5
}

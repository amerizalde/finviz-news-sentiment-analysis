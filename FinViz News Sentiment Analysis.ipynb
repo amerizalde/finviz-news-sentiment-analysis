{
 "cells": [
  {
   "cell_type": "code",
   "execution_count": 45,
   "id": "3765a783",
   "metadata": {},
   "outputs": [],
   "source": [
    "from urllib.request import urlopen, Request"
   ]
  },
  {
   "cell_type": "code",
   "execution_count": 46,
   "id": "47852bf4",
   "metadata": {},
   "outputs": [],
   "source": [
    "from bs4 import BeautifulSoup as soup"
   ]
  },
  {
   "cell_type": "code",
   "execution_count": 47,
   "id": "5843a78e",
   "metadata": {},
   "outputs": [],
   "source": [
    "finviz_url = \"https://finviz.com/quote.ashx?t=\""
   ]
  },
  {
   "cell_type": "code",
   "execution_count": 51,
   "id": "cf0dd8c9",
   "metadata": {},
   "outputs": [
    {
     "data": {
      "text/plain": [
       "{'AMZN': {'sentiment': 1, 'links': {}},\n",
       " 'NVDA': {'sentiment': 1, 'links': {}},\n",
       " 'LUV': {'sentiment': 1, 'links': {}},\n",
       " 'MSTR': {'sentiment': 1, 'links': {}}}"
      ]
     },
     "execution_count": 51,
     "metadata": {},
     "output_type": "execute_result"
    }
   ],
   "source": [
    "tickers = [\"AMZN\", \"NVDA\", \"LUV\", \"MSTR\"]\n",
    "\n",
    "portfolio = {}\n",
    "for t in tickers:\n",
    "    portfolio[t] = {\n",
    "        \"sentiment\" : 1,\n",
    "        \"links\" : {}\n",
    "    }\n",
    "portfolio"
   ]
  },
  {
   "cell_type": "code",
   "execution_count": 52,
   "id": "ac76150d",
   "metadata": {},
   "outputs": [],
   "source": [
    "def get_page(url):\n",
    "    request = Request(url=url, headers={'user-agent': 'Not-A-Browser'})\n",
    "    response = urlopen(request)\n",
    "    return soup(response, \"html\")"
   ]
  },
  {
   "cell_type": "code",
   "execution_count": 53,
   "id": "b55fd92a",
   "metadata": {},
   "outputs": [
    {
     "data": {
      "text/plain": [
       "{'AMZN': {'sentiment': 1,\n",
       "  'links': {'US FTC was poised to reject Amazon acquisition of iRobot -- source': {'url': 'https://finance.yahoo.com/news/us-ftc-poised-reject-amazon-164931981.html'},\n",
       "   'iRobot Has a Major Cleanup After Scrapped Amazon Deal': {'url': 'https://finance.yahoo.com/m/62c49f24-4a16-3585-b7da-6123293ebce2/irobot-has-a-major-cleanup.html'},\n",
       "   'Tech earnings due out this week: Amazon, Microsoft in focus': {'url': 'https://finance.yahoo.com/video/tech-earnings-due-week-amazon-164345039.html'},\n",
       "   \"Elon Musk is losing so much money that Jeff Bezos could beat him in the billionaires' race\": {'url': 'https://qz.com/elon-musk-jeff-bezos-world-richest-person-tesla-stock-1851205323'},\n",
       "   'One chart shows why Big Tech earnings are critical for the health of the market rally': {'url': 'https://finance.yahoo.com/news/one-chart-shows-why-big-tech-earnings-are-critical-for-the-health-of-the-market-rally-160444587.html'}}},\n",
       " 'NVDA': {'sentiment': 1,\n",
       "  'links': {'Magnificent Seven Stocks To Buy And Watch: Nvidia, Tesla Rally': {'url': 'https://finance.yahoo.com/m/4205eaa9-f620-3a0b-a81a-0e82c7c9fd0b/magnificent-seven-stocks-to.html'},\n",
       "   'One chart shows why Big Tech earnings are critical for the health of the market rally': {'url': 'https://finance.yahoo.com/news/one-chart-shows-why-big-tech-earnings-are-critical-for-the-health-of-the-market-rally-160444587.html'},\n",
       "   'Buying Nvidia Stock? Here Is What Artificial Intelligence (AI) Stock Investors Should Know About the Semiconductor Market': {'url': 'https://finance.yahoo.com/m/6bca7e83-28e9-3d2d-91f8-5916eeddb2a6/buying-nvidia-stock%3F-here-is.html'},\n",
       "   \"Updated Images of NVIDIAs Corporate Headquarters Available on Business Wire's Website and the Associated Press Photo Network\": {'url': 'https://finance.yahoo.com/news/updated-images-nvidia-corporate-headquarters-160000437.html'},\n",
       "   'Forget The Magnificent Seven. Focus On These Fab Five.': {'url': 'https://finance.yahoo.com/m/ae781605-8fd9-3163-8eae-ecb47e1a69cc/forget-the-magnificent-seven..html'}}},\n",
       " 'LUV': {'sentiment': 1,\n",
       "  'links': {'Boeing Gets Good News. Ryanair Is Still a MAX Buyer for the Right Price.': {'url': 'https://finance.yahoo.com/m/5eb7138f-e725-3ff4-bed1-2968a71d5797/boeing-gets-good-news..html'},\n",
       "   'SOUTHWEST AIRLINES ADDS MORE FLIGHTS FOR THE BIG GAME IN LAS VEGAS': {'url': 'https://www.prnewswire.com/news-releases/southwest-airlines-adds-more-flights-for-the-big-game-in-las-vegas-302046408.html'},\n",
       "   'Southwest Airlines Co. (NYSE:LUV) Q4 2023 Earnings Call Transcript': {'url': 'https://www.insidermonkey.com/blog/southwest-airlines-co-nyseluv-q4-2023-earnings-call-transcript-1250068/'},\n",
       "   'Alaska, Southwest see modest cargo revenue growth': {'url': 'https://aircargonext.com/news/cargo-airlines/alaska-southwest-see-modest-cargo-revenue-growth/'},\n",
       "   \"Airline execs say Boeing needs to be held 'accountable' after 737 Max 9 mishaps\": {'url': 'https://finance.yahoo.com/news/airline-execs-say-boeing-needs-to-be-held-accountable-after-737-max-9-mishaps-194316890.html'}}},\n",
       " 'MSTR': {'sentiment': 1,\n",
       "  'links': {'MicroStrategy Inc Executive Chairman, 10% Owner Michael Saylor Sells 5,000 Shares': {'url': 'https://finance.yahoo.com/news/microstrategy-inc-executive-chairman-10-080128175.html'},\n",
       "   \"Saylor's Sales: A Prediction of Future Bitcoin Prices?\": {'url': 'https://finance.yahoo.com/m/fa55d54e-552d-3815-89c4-a89c51f1e573/saylor%27s-sales%3A-a-prediction.html'},\n",
       "   'Missed Out on Bitcoin Mining Stocks? 2 Crypto Stocks to Buy Right Now': {'url': 'https://finance.yahoo.com/m/2ad5a169-ea4f-3a36-b22b-cfec2b09285b/missed-out-on-bitcoin-mining.html'},\n",
       "   \"This Bitcoin News May Spell Trouble for MicroStrategy in 2024. Here's Why\": {'url': 'https://finance.yahoo.com/m/b40b0dcd-c2c7-373d-b894-177b7d5ac522/this-bitcoin-news-may-spell.html'},\n",
       "   '3 Tech Stocks to Sell in January Before They Crash and Burn': {'url': 'https://finance.yahoo.com/news/3-tech-stocks-sell-january-182300888.html'}}}}"
      ]
     },
     "execution_count": 53,
     "metadata": {},
     "output_type": "execute_result"
    }
   ],
   "source": [
    "\n",
    "for ticker in tickers:\n",
    "    url = finviz_url + ticker\n",
    "    html = get_page(url)\n",
    "    news = html.find(id=\"news-table\").findAll('tr')\n",
    "    for index, row in enumerate(news):\n",
    "        if row.a and index < 6:\n",
    "            title = row.a.get_text()\n",
    "            link = row.a.get(\"href\")\n",
    "            portfolio[ticker][\"links\"][title] = {}\n",
    "            portfolio[ticker][\"links\"][title][\"url\"] = link\n",
    "\n",
    "portfolio"
   ]
  },
  {
   "cell_type": "code",
   "execution_count": 54,
   "id": "22021639",
   "metadata": {},
   "outputs": [],
   "source": [
    "from transformers import AutoTokenizer, AutoModelForSequenceClassification\n",
    "import torch\n",
    "from typing import Tuple \n",
    "device = \"cuda:0\" if torch.cuda.is_available() else \"cpu\"\n",
    "\n",
    "tokenizer = AutoTokenizer.from_pretrained(\"ProsusAI/finbert\")\n",
    "model = AutoModelForSequenceClassification.from_pretrained(\"ProsusAI/finbert\").to(device)\n",
    "labels = [\"positive\", \"negative\", \"neutral\"]\n",
    "\n",
    "def estimate_sentiment(news):\n",
    "    if news:\n",
    "        tokens = tokenizer(news, return_tensors=\"pt\", padding=True).to(device)\n",
    "\n",
    "        result = model(tokens[\"input_ids\"], attention_mask=tokens[\"attention_mask\"])[\n",
    "            \"logits\"\n",
    "        ]\n",
    "        result = torch.nn.functional.softmax(torch.sum(result, 0), dim=-1)\n",
    "        probability = result[torch.argmax(result)]\n",
    "        sentiment = labels[torch.argmax(result)]\n",
    "        return probability, sentiment\n",
    "    else:\n",
    "        return 0, labels[-1]"
   ]
  },
  {
   "cell_type": "code",
   "execution_count": 55,
   "id": "9a4c8090",
   "metadata": {},
   "outputs": [],
   "source": [
    "for t in portfolio:\n",
    "    f = portfolio[t]\n",
    "    for v in f[\"links\"].values():\n",
    "        url = v['url']\n",
    "        count_prob = []\n",
    "        results = get_page(url).findAll('p')\n",
    "        for p in results:\n",
    "            news = p.get_text()\n",
    "            probability, sentiment = estimate_sentiment(news)\n",
    "            count_prob.append(probability)\n",
    "    portfolio[t][\"sentiment\"] = (sum(count_prob) / len(count_prob)).item()"
   ]
  },
  {
   "cell_type": "code",
   "execution_count": 61,
   "id": "9fc764af",
   "metadata": {},
   "outputs": [
    {
     "data": {
      "text/plain": [
       "[('AMZN', 0.8544131517410278),\n",
       " ('NVDA', 0.7974177598953247),\n",
       " ('LUV', 0.8351674675941467),\n",
       " ('MSTR', 0.81805819272995)]"
      ]
     },
     "execution_count": 61,
     "metadata": {},
     "output_type": "execute_result"
    }
   ],
   "source": [
    "[(p, portfolio[p][\"sentiment\"]) for p in portfolio]"
   ]
  },
  {
   "cell_type": "code",
   "execution_count": null,
   "id": "d4d3b6f7",
   "metadata": {},
   "outputs": [],
   "source": []
  }
 ],
 "metadata": {
  "kernelspec": {
   "display_name": "Python 3 (ipykernel)",
   "language": "python",
   "name": "python3"
  },
  "language_info": {
   "codemirror_mode": {
    "name": "ipython",
    "version": 3
   },
   "file_extension": ".py",
   "mimetype": "text/x-python",
   "name": "python",
   "nbconvert_exporter": "python",
   "pygments_lexer": "ipython3",
   "version": "3.11.5"
  }
 },
 "nbformat": 4,
 "nbformat_minor": 5
}
